{
 "cells": [
  {
   "cell_type": "markdown",
   "id": "d785009e",
   "metadata": {},
   "source": [
    "# 🤖 Cold Email AI Agent - Google Colab Deployment\n",
    "\n",
    "This notebook deploys the Cold Email AI Agent on Google Colab with a public URL."
   ]
  },
  {
   "cell_type": "code",
   "execution_count": null,
   "id": "23c70ba5",
   "metadata": {},
   "outputs": [],
   "source": [
    "# Install dependencies\n",
    "!pip install streamlit langchain langchain-groq langchain-community\n",
    "!pip install chromadb pandas python-dotenv beautifulsoup4 requests\n",
    "!npm install -g localtunnel"
   ]
  },
  {
   "cell_type": "code",
   "execution_count": null,
   "id": "7af6bb81",
   "metadata": {},
   "outputs": [],
   "source": [
    "# Clone the repository\n",
    "!git clone https://github.com/Aniketyadav77/cold-email-generator-AI-AGENT.git\n",
    "%cd cold-email-generator-AI-AGENT"
   ]
  },
  {
   "cell_type": "code",
   "execution_count": null,
   "id": "e1008dab",
   "metadata": {},
   "outputs": [],
   "source": [
    "# Setup environment (optional - works in demo mode without API key)\n",
    "import os\n",
    "# os.environ['GROQ_API_KEY'] = 'your_api_key_here'  # Uncomment and add your key"
   ]
  },
  {
   "cell_type": "code",
   "execution_count": null,
   "id": "a469cdd3",
   "metadata": {},
   "outputs": [],
   "source": [
    "# Run the Streamlit app with public URL\n",
    "!streamlit run streamlit_app.py &>/content/logs.txt &\n",
    "!sleep 5\n",
    "!npx localtunnel --port 8501 --subdomain cold-email-ai"
   ]
  }
 ],
 "metadata": {
  "language_info": {
   "name": "python"
  }
 },
 "nbformat": 4,
 "nbformat_minor": 5
}
